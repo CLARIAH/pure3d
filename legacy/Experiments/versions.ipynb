{
 "cells": [
  {
   "cell_type": "code",
   "execution_count": 1,
   "id": "305f4ad9-b53e-4fca-be1e-5f53430f01bf",
   "metadata": {},
   "outputs": [],
   "source": [
    "import re"
   ]
  },
  {
   "cell_type": "code",
   "execution_count": 16,
   "id": "149bf0e0-f05c-4cd7-b506-4fad9d7b10c5",
   "metadata": {},
   "outputs": [],
   "source": [
    "VERSION_COMP_RE = re.compile(\n",
    "    r\"\"\"\n",
    "    ([0-9]*)\n",
    "    ([a-z]*)\n",
    "    (-?)\n",
    "    \"\"\",\n",
    "    re.X,\n",
    ")"
   ]
  },
  {
   "cell_type": "code",
   "execution_count": 17,
   "id": "ac1929ad-cf1f-4d9d-a2f2-895e25539943",
   "metadata": {},
   "outputs": [],
   "source": [
    "def splitComp(c):\n",
    "    return [m for m in VERSION_COMP_RE.findall(c) if m[0] or m[1]]\n",
    "\n",
    "def makeComps(v):\n",
    "    return [splitComp(c) for c in v.split(\".\")]\n",
    "\n",
    "def versionCompare(v1, v2):\n",
    "    v1comps = makeComps(v1)\n",
    "    v2comps = makeComps(v2)\n",
    "    print(f\"{v1comps=}\")\n",
    "    print(f\"{v2comps=}\")\n",
    "\n",
    "    nV2 = len(v2comps)\n",
    "\n",
    "    for (i, c1) in enumerate(v1comps):\n",
    "        if i >= nV2:\n",
    "            return 1\n",
    "\n",
    "        c2 = v2comps[i]\n",
    "        nC2 = len(c2)\n",
    "        for (j, s1) in enumerate(c1):\n",
    "            if j >= nC2:\n",
    "                return 1\n",
    "\n",
    "            s2 = c2[j]\n",
    "            if s1 < s2:\n",
    "                return -1\n",
    "            if s1 > s2:\n",
    "                return 1\n",
    "    return 0\n"
   ]
  },
  {
   "cell_type": "code",
   "execution_count": 18,
   "id": "93026e20-c155-4570-ad39-36ac7c559e0c",
   "metadata": {},
   "outputs": [],
   "source": [
    "x = \"1.2.3.4.1a-\"\n",
    "y = \"1.2.3.4.1a\"\n"
   ]
  },
  {
   "cell_type": "code",
   "execution_count": 19,
   "id": "3e936484-f0df-4944-a177-48cc1aa28a4c",
   "metadata": {},
   "outputs": [
    {
     "name": "stdout",
     "output_type": "stream",
     "text": [
      "v1comps=[[('1', '', '')], [('2', '', '')], [('3', '', '')], [('4', '', '')], [('1', 'a', '-')]]\n",
      "v2comps=[[('1', '', '')], [('2', '', '')], [('3', '', '')], [('4', '', '')], [('1', 'a', '')]]\n"
     ]
    },
    {
     "data": {
      "text/plain": [
       "1"
      ]
     },
     "execution_count": 19,
     "metadata": {},
     "output_type": "execute_result"
    }
   ],
   "source": [
    "versionCompare(x, y)"
   ]
  },
  {
   "cell_type": "code",
   "execution_count": null,
   "id": "10f6fc87-3cc1-4185-a93a-43480011c1b2",
   "metadata": {},
   "outputs": [],
   "source": []
  }
 ],
 "metadata": {
  "kernelspec": {
   "display_name": "Python 3 (ipykernel)",
   "language": "python",
   "name": "python3"
  },
  "language_info": {
   "codemirror_mode": {
    "name": "ipython",
    "version": 3
   },
   "file_extension": ".py",
   "mimetype": "text/x-python",
   "name": "python",
   "nbconvert_exporter": "python",
   "pygments_lexer": "ipython3",
   "version": "3.11.1"
  }
 },
 "nbformat": 4,
 "nbformat_minor": 5
}
